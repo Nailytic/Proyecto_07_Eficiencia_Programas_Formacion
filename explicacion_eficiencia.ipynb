{
 "cells": [
  {
   "cell_type": "markdown",
   "id": "aab1da0a",
   "metadata": {},
   "source": [
    "# 📘 Proyecto 07: Análisis de Cohortes Formativas"
   ]
  },
  {
   "cell_type": "markdown",
   "id": "a52a8003",
   "metadata": {},
   "source": [
    "Este notebook explica cómo se ha evaluado la eficiencia de programas formativos usando indicadores de retención, finalización y satisfacción."
   ]
  },
  {
   "cell_type": "markdown",
   "id": "5bf5f3ec",
   "metadata": {},
   "source": [
    "## Visualización\n",
    "Se utiliza un boxplot para representar la distribución de la tasa de retención por programa."
   ]
  },
  {
   "cell_type": "markdown",
   "id": "5cae3439",
   "metadata": {},
   "source": [
    "## Conclusión\n",
    "El análisis comparativo entre programas permite focalizar mejoras en la oferta educativa."
   ]
  }
 ],
 "metadata": {
  "kernelspec": {
   "display_name": "Python 3",
   "language": "python",
   "name": "python3"
  },
  "language_info": {
   "name": "python",
   "version": "3.9"
  }
 },
 "nbformat": 4,
 "nbformat_minor": 5
}
